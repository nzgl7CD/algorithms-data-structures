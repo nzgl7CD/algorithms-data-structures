{
 "cells": [
  {
   "cell_type": "code",
   "execution_count": 3,
   "metadata": {},
   "outputs": [
    {
     "name": "stdout",
     "output_type": "stream",
     "text": [
      "x: 0b1010 y:0b11 z:0b111\n"
     ]
    }
   ],
   "source": [
    "x=10\n",
    "y=3\n",
    "z=7\n",
    "\n",
    "print(f'x: {bin(x)} y:{bin(y)} z:{bin(z)}')"
   ]
  },
  {
   "cell_type": "code",
   "execution_count": 11,
   "metadata": {},
   "outputs": [
    {
     "name": "stdout",
     "output_type": "stream",
     "text": [
      "0b10\n",
      "0b1001\n",
      "0b1011\n",
      "0b101\n",
      "0b10100\n"
     ]
    }
   ],
   "source": [
    "print(bin(x&y)) #and\n",
    "print(bin(x^y)) #xor\n",
    "print(bin(x|y)) #or\n",
    "print(bin(x>>1)) # //2\n",
    "print(bin(x<<1)) # *2\n"
   ]
  },
  {
   "cell_type": "code",
   "execution_count": 16,
   "metadata": {},
   "outputs": [
    {
     "name": "stdout",
     "output_type": "stream",
     "text": [
      "17\n"
     ]
    }
   ],
   "source": [
    "#Summarise\n",
    "\n",
    "a,b=10,7\n",
    "while b: \n",
    "    sum_withou_carry=a^b\n",
    "    sum_w_carry=(a&b)<<1\n",
    "    a=sum_withou_carry\n",
    "    b=sum_w_carry\n",
    "print(a)\n",
    "\n"
   ]
  },
  {
   "cell_type": "code",
   "execution_count": 20,
   "metadata": {},
   "outputs": [
    {
     "name": "stdout",
     "output_type": "stream",
     "text": [
      "8\n",
      "10\n"
     ]
    }
   ],
   "source": [
    "# Rounding\n",
    "print(9&~1) # round down if odd\n",
    "print((9&~1)+2) # round up if odd"
   ]
  },
  {
   "cell_type": "code",
   "execution_count": 54,
   "metadata": {},
   "outputs": [
    {
     "name": "stdout",
     "output_type": "stream",
     "text": [
      "10\n",
      "6\n",
      "5\n",
      "4\n",
      "3\n",
      "10\n"
     ]
    }
   ],
   "source": [
    "# Convert bin stirng to int\n",
    "bin_str='0b1010'\n",
    "int_from_bin=int(bin_str[2:],2)\n",
    "print(int_from_bin)\n",
    "\n",
    "# Iterative \n",
    "\n",
    "counter=0\n",
    "idx=0\n",
    "for i in range(len(bin_str),2,-1):\n",
    "    if bin_str[i-1]=='1':\n",
    "        counter+=2**(idx)\n",
    "    idx+=1\n",
    "       \n",
    "        \n",
    "print(counter)"
   ]
  },
  {
   "cell_type": "code",
   "execution_count": 65,
   "metadata": {},
   "outputs": [
    {
     "name": "stdout",
     "output_type": "stream",
     "text": [
      "10\n"
     ]
    }
   ],
   "source": [
    "num=10 #1010\n",
    "num<<=1 #Move one bit to left\n",
    "print(num)\n"
   ]
  },
  {
   "cell_type": "code",
   "execution_count": 68,
   "metadata": {},
   "outputs": [
    {
     "name": "stdout",
     "output_type": "stream",
     "text": [
      "{2, 4, 6}\n",
      "{2, 4, 6}\n"
     ]
    }
   ],
   "source": [
    "arr=[1,2,3,4,5,6]\n",
    "pairs=set(filter(lambda x: not x&1==1,arr))\n",
    "pairs1={i for i in arr if not i&1==1}\n",
    "print(pairs)\n",
    "print(pairs1)"
   ]
  }
 ],
 "metadata": {
  "kernelspec": {
   "display_name": "Python 3",
   "language": "python",
   "name": "python3"
  },
  "language_info": {
   "codemirror_mode": {
    "name": "ipython",
    "version": 3
   },
   "file_extension": ".py",
   "mimetype": "text/x-python",
   "name": "python",
   "nbconvert_exporter": "python",
   "pygments_lexer": "ipython3",
   "version": "3.12.4"
  }
 },
 "nbformat": 4,
 "nbformat_minor": 2
}
